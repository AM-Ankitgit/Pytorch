{
 "cells": [
  {
   "cell_type": "code",
   "execution_count": 1,
   "metadata": {},
   "outputs": [],
   "source": [
    "import pandas as pd\n",
    "from sklearn.model_selection import train_test_split\n",
    "from torch.utils.data import Dataset,DataLoader\n",
    "import torch.nn as nn\n",
    "import torch.optim as optim\n",
    "import torch\n",
    "\n"
   ]
  },
  {
   "cell_type": "code",
   "execution_count": 2,
   "metadata": {},
   "outputs": [
    {
     "data": {
      "text/plain": [
       "<torch._C.Generator at 0x70321469ead0>"
      ]
     },
     "execution_count": 2,
     "metadata": {},
     "output_type": "execute_result"
    }
   ],
   "source": [
    "torch.manual_seed(42)"
   ]
  },
  {
   "cell_type": "code",
   "execution_count": 3,
   "metadata": {},
   "outputs": [],
   "source": [
    "df  = pd.read_csv(\"./fmnist_small.csv\")"
   ]
  },
  {
   "cell_type": "code",
   "execution_count": 4,
   "metadata": {},
   "outputs": [
    {
     "data": {
      "text/html": [
       "<div>\n",
       "<style scoped>\n",
       "    .dataframe tbody tr th:only-of-type {\n",
       "        vertical-align: middle;\n",
       "    }\n",
       "\n",
       "    .dataframe tbody tr th {\n",
       "        vertical-align: top;\n",
       "    }\n",
       "\n",
       "    .dataframe thead th {\n",
       "        text-align: right;\n",
       "    }\n",
       "</style>\n",
       "<table border=\"1\" class=\"dataframe\">\n",
       "  <thead>\n",
       "    <tr style=\"text-align: right;\">\n",
       "      <th></th>\n",
       "      <th>label</th>\n",
       "      <th>pixel1</th>\n",
       "      <th>pixel2</th>\n",
       "      <th>pixel3</th>\n",
       "      <th>pixel4</th>\n",
       "      <th>pixel5</th>\n",
       "      <th>pixel6</th>\n",
       "      <th>pixel7</th>\n",
       "      <th>pixel8</th>\n",
       "      <th>pixel9</th>\n",
       "      <th>...</th>\n",
       "      <th>pixel775</th>\n",
       "      <th>pixel776</th>\n",
       "      <th>pixel777</th>\n",
       "      <th>pixel778</th>\n",
       "      <th>pixel779</th>\n",
       "      <th>pixel780</th>\n",
       "      <th>pixel781</th>\n",
       "      <th>pixel782</th>\n",
       "      <th>pixel783</th>\n",
       "      <th>pixel784</th>\n",
       "    </tr>\n",
       "  </thead>\n",
       "  <tbody>\n",
       "    <tr>\n",
       "      <th>0</th>\n",
       "      <td>9</td>\n",
       "      <td>0</td>\n",
       "      <td>0</td>\n",
       "      <td>0</td>\n",
       "      <td>0</td>\n",
       "      <td>0</td>\n",
       "      <td>0</td>\n",
       "      <td>0</td>\n",
       "      <td>0</td>\n",
       "      <td>0</td>\n",
       "      <td>...</td>\n",
       "      <td>0</td>\n",
       "      <td>7</td>\n",
       "      <td>0</td>\n",
       "      <td>50</td>\n",
       "      <td>205</td>\n",
       "      <td>196</td>\n",
       "      <td>213</td>\n",
       "      <td>165</td>\n",
       "      <td>0</td>\n",
       "      <td>0</td>\n",
       "    </tr>\n",
       "    <tr>\n",
       "      <th>1</th>\n",
       "      <td>7</td>\n",
       "      <td>0</td>\n",
       "      <td>0</td>\n",
       "      <td>0</td>\n",
       "      <td>0</td>\n",
       "      <td>0</td>\n",
       "      <td>0</td>\n",
       "      <td>0</td>\n",
       "      <td>0</td>\n",
       "      <td>0</td>\n",
       "      <td>...</td>\n",
       "      <td>0</td>\n",
       "      <td>0</td>\n",
       "      <td>0</td>\n",
       "      <td>0</td>\n",
       "      <td>0</td>\n",
       "      <td>0</td>\n",
       "      <td>0</td>\n",
       "      <td>0</td>\n",
       "      <td>0</td>\n",
       "      <td>0</td>\n",
       "    </tr>\n",
       "    <tr>\n",
       "      <th>2</th>\n",
       "      <td>0</td>\n",
       "      <td>0</td>\n",
       "      <td>0</td>\n",
       "      <td>0</td>\n",
       "      <td>0</td>\n",
       "      <td>0</td>\n",
       "      <td>1</td>\n",
       "      <td>0</td>\n",
       "      <td>0</td>\n",
       "      <td>0</td>\n",
       "      <td>...</td>\n",
       "      <td>142</td>\n",
       "      <td>142</td>\n",
       "      <td>142</td>\n",
       "      <td>21</td>\n",
       "      <td>0</td>\n",
       "      <td>3</td>\n",
       "      <td>0</td>\n",
       "      <td>0</td>\n",
       "      <td>0</td>\n",
       "      <td>0</td>\n",
       "    </tr>\n",
       "    <tr>\n",
       "      <th>3</th>\n",
       "      <td>8</td>\n",
       "      <td>0</td>\n",
       "      <td>0</td>\n",
       "      <td>0</td>\n",
       "      <td>0</td>\n",
       "      <td>0</td>\n",
       "      <td>0</td>\n",
       "      <td>0</td>\n",
       "      <td>0</td>\n",
       "      <td>0</td>\n",
       "      <td>...</td>\n",
       "      <td>0</td>\n",
       "      <td>0</td>\n",
       "      <td>0</td>\n",
       "      <td>0</td>\n",
       "      <td>0</td>\n",
       "      <td>0</td>\n",
       "      <td>0</td>\n",
       "      <td>0</td>\n",
       "      <td>0</td>\n",
       "      <td>0</td>\n",
       "    </tr>\n",
       "    <tr>\n",
       "      <th>4</th>\n",
       "      <td>8</td>\n",
       "      <td>0</td>\n",
       "      <td>0</td>\n",
       "      <td>0</td>\n",
       "      <td>0</td>\n",
       "      <td>0</td>\n",
       "      <td>0</td>\n",
       "      <td>0</td>\n",
       "      <td>0</td>\n",
       "      <td>0</td>\n",
       "      <td>...</td>\n",
       "      <td>213</td>\n",
       "      <td>203</td>\n",
       "      <td>174</td>\n",
       "      <td>151</td>\n",
       "      <td>188</td>\n",
       "      <td>10</td>\n",
       "      <td>0</td>\n",
       "      <td>0</td>\n",
       "      <td>0</td>\n",
       "      <td>0</td>\n",
       "    </tr>\n",
       "    <tr>\n",
       "      <th>...</th>\n",
       "      <td>...</td>\n",
       "      <td>...</td>\n",
       "      <td>...</td>\n",
       "      <td>...</td>\n",
       "      <td>...</td>\n",
       "      <td>...</td>\n",
       "      <td>...</td>\n",
       "      <td>...</td>\n",
       "      <td>...</td>\n",
       "      <td>...</td>\n",
       "      <td>...</td>\n",
       "      <td>...</td>\n",
       "      <td>...</td>\n",
       "      <td>...</td>\n",
       "      <td>...</td>\n",
       "      <td>...</td>\n",
       "      <td>...</td>\n",
       "      <td>...</td>\n",
       "      <td>...</td>\n",
       "      <td>...</td>\n",
       "      <td>...</td>\n",
       "    </tr>\n",
       "    <tr>\n",
       "      <th>5995</th>\n",
       "      <td>1</td>\n",
       "      <td>0</td>\n",
       "      <td>0</td>\n",
       "      <td>0</td>\n",
       "      <td>0</td>\n",
       "      <td>0</td>\n",
       "      <td>0</td>\n",
       "      <td>0</td>\n",
       "      <td>0</td>\n",
       "      <td>0</td>\n",
       "      <td>...</td>\n",
       "      <td>69</td>\n",
       "      <td>12</td>\n",
       "      <td>0</td>\n",
       "      <td>0</td>\n",
       "      <td>0</td>\n",
       "      <td>0</td>\n",
       "      <td>0</td>\n",
       "      <td>0</td>\n",
       "      <td>0</td>\n",
       "      <td>0</td>\n",
       "    </tr>\n",
       "    <tr>\n",
       "      <th>5996</th>\n",
       "      <td>5</td>\n",
       "      <td>0</td>\n",
       "      <td>0</td>\n",
       "      <td>0</td>\n",
       "      <td>0</td>\n",
       "      <td>0</td>\n",
       "      <td>0</td>\n",
       "      <td>0</td>\n",
       "      <td>0</td>\n",
       "      <td>0</td>\n",
       "      <td>...</td>\n",
       "      <td>0</td>\n",
       "      <td>0</td>\n",
       "      <td>0</td>\n",
       "      <td>0</td>\n",
       "      <td>0</td>\n",
       "      <td>0</td>\n",
       "      <td>0</td>\n",
       "      <td>0</td>\n",
       "      <td>0</td>\n",
       "      <td>0</td>\n",
       "    </tr>\n",
       "    <tr>\n",
       "      <th>5997</th>\n",
       "      <td>8</td>\n",
       "      <td>0</td>\n",
       "      <td>0</td>\n",
       "      <td>0</td>\n",
       "      <td>0</td>\n",
       "      <td>0</td>\n",
       "      <td>0</td>\n",
       "      <td>0</td>\n",
       "      <td>0</td>\n",
       "      <td>0</td>\n",
       "      <td>...</td>\n",
       "      <td>39</td>\n",
       "      <td>47</td>\n",
       "      <td>2</td>\n",
       "      <td>0</td>\n",
       "      <td>0</td>\n",
       "      <td>29</td>\n",
       "      <td>0</td>\n",
       "      <td>0</td>\n",
       "      <td>0</td>\n",
       "      <td>0</td>\n",
       "    </tr>\n",
       "    <tr>\n",
       "      <th>5998</th>\n",
       "      <td>4</td>\n",
       "      <td>0</td>\n",
       "      <td>0</td>\n",
       "      <td>0</td>\n",
       "      <td>0</td>\n",
       "      <td>0</td>\n",
       "      <td>0</td>\n",
       "      <td>0</td>\n",
       "      <td>0</td>\n",
       "      <td>0</td>\n",
       "      <td>...</td>\n",
       "      <td>0</td>\n",
       "      <td>0</td>\n",
       "      <td>0</td>\n",
       "      <td>0</td>\n",
       "      <td>0</td>\n",
       "      <td>0</td>\n",
       "      <td>0</td>\n",
       "      <td>0</td>\n",
       "      <td>0</td>\n",
       "      <td>0</td>\n",
       "    </tr>\n",
       "    <tr>\n",
       "      <th>5999</th>\n",
       "      <td>8</td>\n",
       "      <td>0</td>\n",
       "      <td>0</td>\n",
       "      <td>0</td>\n",
       "      <td>0</td>\n",
       "      <td>0</td>\n",
       "      <td>0</td>\n",
       "      <td>0</td>\n",
       "      <td>0</td>\n",
       "      <td>0</td>\n",
       "      <td>...</td>\n",
       "      <td>139</td>\n",
       "      <td>177</td>\n",
       "      <td>0</td>\n",
       "      <td>0</td>\n",
       "      <td>0</td>\n",
       "      <td>0</td>\n",
       "      <td>0</td>\n",
       "      <td>0</td>\n",
       "      <td>0</td>\n",
       "      <td>0</td>\n",
       "    </tr>\n",
       "  </tbody>\n",
       "</table>\n",
       "<p>6000 rows × 785 columns</p>\n",
       "</div>"
      ],
      "text/plain": [
       "      label  pixel1  pixel2  pixel3  pixel4  pixel5  pixel6  pixel7  pixel8  \\\n",
       "0         9       0       0       0       0       0       0       0       0   \n",
       "1         7       0       0       0       0       0       0       0       0   \n",
       "2         0       0       0       0       0       0       1       0       0   \n",
       "3         8       0       0       0       0       0       0       0       0   \n",
       "4         8       0       0       0       0       0       0       0       0   \n",
       "...     ...     ...     ...     ...     ...     ...     ...     ...     ...   \n",
       "5995      1       0       0       0       0       0       0       0       0   \n",
       "5996      5       0       0       0       0       0       0       0       0   \n",
       "5997      8       0       0       0       0       0       0       0       0   \n",
       "5998      4       0       0       0       0       0       0       0       0   \n",
       "5999      8       0       0       0       0       0       0       0       0   \n",
       "\n",
       "      pixel9  ...  pixel775  pixel776  pixel777  pixel778  pixel779  pixel780  \\\n",
       "0          0  ...         0         7         0        50       205       196   \n",
       "1          0  ...         0         0         0         0         0         0   \n",
       "2          0  ...       142       142       142        21         0         3   \n",
       "3          0  ...         0         0         0         0         0         0   \n",
       "4          0  ...       213       203       174       151       188        10   \n",
       "...      ...  ...       ...       ...       ...       ...       ...       ...   \n",
       "5995       0  ...        69        12         0         0         0         0   \n",
       "5996       0  ...         0         0         0         0         0         0   \n",
       "5997       0  ...        39        47         2         0         0        29   \n",
       "5998       0  ...         0         0         0         0         0         0   \n",
       "5999       0  ...       139       177         0         0         0         0   \n",
       "\n",
       "      pixel781  pixel782  pixel783  pixel784  \n",
       "0          213       165         0         0  \n",
       "1            0         0         0         0  \n",
       "2            0         0         0         0  \n",
       "3            0         0         0         0  \n",
       "4            0         0         0         0  \n",
       "...        ...       ...       ...       ...  \n",
       "5995         0         0         0         0  \n",
       "5996         0         0         0         0  \n",
       "5997         0         0         0         0  \n",
       "5998         0         0         0         0  \n",
       "5999         0         0         0         0  \n",
       "\n",
       "[6000 rows x 785 columns]"
      ]
     },
     "execution_count": 4,
     "metadata": {},
     "output_type": "execute_result"
    }
   ],
   "source": [
    "df"
   ]
  },
  {
   "cell_type": "code",
   "execution_count": 5,
   "metadata": {},
   "outputs": [],
   "source": [
    "# df.iloc[i,1:].values.reshape(28,28)"
   ]
  },
  {
   "cell_type": "code",
   "execution_count": 6,
   "metadata": {},
   "outputs": [
    {
     "data": {
      "image/png": "[encoded data removed]",
      "text/plain": [
       "<Figure size 1000x1000 with 16 Axes>"
      ]
     },
     "metadata": {},
     "output_type": "display_data"
    }
   ],
   "source": [
    "import matplotlib.pyplot as plt\n",
    "\n",
    "fig,axes = plt.subplots(4,4,figsize=(10,10))\n",
    "\n",
    "for i ,ax in enumerate(axes.flat):\n",
    "    img = df.iloc[i,1:].values.reshape(28,28)\n",
    "    ax.imshow(img)\n",
    "    ax.axis(\"off\")\n",
    "    ax.set_title(f\"Label: {df.iloc[i,0]}\")\n",
    "plt.tight_layout(rect=[0,0,1,1]\n",
    "                 )\n",
    "plt.show()\n"
   ]
  },
  {
   "cell_type": "code",
   "execution_count": 7,
   "metadata": {},
   "outputs": [],
   "source": [
    "# train test split\n",
    "\n",
    "X = df.iloc[:, 1:].values\n",
    "y = df.iloc[:, 0].values\n",
    "\n",
    "X_train, X_test, y_train, y_test = train_test_split(X, y, test_size=0.2, random_state=42)"
   ]
  },
  {
   "cell_type": "code",
   "execution_count": 8,
   "metadata": {},
   "outputs": [],
   "source": [
    "# scaling the feautures\n",
    "X_train = X_train/255.0\n",
    "X_test = X_test/255.0"
   ]
  },
  {
   "cell_type": "code",
   "execution_count": 9,
   "metadata": {},
   "outputs": [],
   "source": [
    "# create CustomDataset Class\n",
    "class CustomDataset(Dataset):\n",
    "\n",
    "  def __init__(self, features, labels):\n",
    "\n",
    "    self.features = torch.tensor(features, dtype=torch.float32)\n",
    "    self.labels = torch.tensor(labels, dtype=torch.long)\n",
    "\n",
    "  def __len__(self):\n",
    "\n",
    "    return len(self.features)\n",
    "\n",
    "  def __getitem__(self, index):\n",
    "\n",
    "    return self.features[index], self.labels[index]\n",
    "\n"
   ]
  },
  {
   "cell_type": "code",
   "execution_count": 10,
   "metadata": {},
   "outputs": [],
   "source": [
    "# create train_dataset object\n",
    "train_dataset = CustomDataset(X_train, y_train)"
   ]
  },
  {
   "cell_type": "code",
   "execution_count": 11,
   "metadata": {},
   "outputs": [
    {
     "data": {
      "text/plain": [
       "(tensor([0.0000, 0.0000, 0.0000, 0.0000, 0.0000, 0.0000, 0.0000, 0.0000, 0.0000,\n",
       "         0.0039, 0.0000, 0.0000, 0.3843, 0.3765, 0.3922, 0.3804, 0.3176, 0.0000,\n",
       "         0.0000, 0.0078, 0.0078, 0.0000, 0.0000, 0.0000, 0.0000, 0.0000, 0.0000,\n",
       "         0.0000, 0.0000, 0.0000, 0.0000, 0.0000, 0.0000, 0.0000, 0.0039, 0.0039,\n",
       "         0.0000, 0.0000, 0.0000, 0.0275, 0.8627, 0.7059, 0.6196, 0.6471, 0.8157,\n",
       "         0.0275, 0.0000, 0.0000, 0.0000, 0.0000, 0.0039, 0.0000, 0.0000, 0.0000,\n",
       "         0.0000, 0.0000, 0.0000, 0.0000, 0.0000, 0.0000, 0.0000, 0.0039, 0.0000,\n",
       "         0.0000, 0.0000, 0.0275, 0.3529, 0.7098, 0.5529, 0.7137, 0.8980, 0.7137,\n",
       "         0.6471, 0.7765, 0.4353, 0.1608, 0.0000, 0.0000, 0.0000, 0.0039, 0.0039,\n",
       "         0.0000, 0.0000, 0.0000, 0.0000, 0.0000, 0.0000, 0.0000, 0.0000, 0.0000,\n",
       "         0.0000, 0.3137, 0.5804, 0.7098, 0.7059, 0.5922, 0.5882, 0.5490, 0.7647,\n",
       "         0.5765, 0.6588, 0.6157, 0.6863, 0.7686, 0.6588, 0.4196, 0.0000, 0.0000,\n",
       "         0.0000, 0.0000, 0.0000, 0.0000, 0.0000, 0.0000, 0.0000, 0.0000, 0.0000,\n",
       "         0.0000, 0.5490, 0.6549, 0.6000, 0.5765, 0.5451, 0.5529, 0.5804, 0.6902,\n",
       "         0.6314, 0.6078, 0.6000, 0.5922, 0.5765, 0.5804, 0.5765, 0.6980, 0.4706,\n",
       "         0.0000, 0.0039, 0.0000, 0.0000, 0.0000, 0.0000, 0.0000, 0.0000, 0.0000,\n",
       "         0.0000, 0.1922, 0.6431, 0.5725, 0.5647, 0.5647, 0.6000, 0.6039, 0.5804,\n",
       "         0.5725, 0.6510, 0.5882, 0.6000, 0.5961, 0.5922, 0.5882, 0.5804, 0.6588,\n",
       "         0.6196, 0.0000, 0.0000, 0.0000, 0.0000, 0.0000, 0.0000, 0.0000, 0.0000,\n",
       "         0.0000, 0.0000, 0.3529, 0.6431, 0.5922, 0.5686, 0.5961, 0.5765, 0.5765,\n",
       "         0.5529, 0.6118, 0.6902, 0.5961, 0.5686, 0.6627, 0.6235, 0.5686, 0.6745,\n",
       "         0.6784, 0.6667, 0.0549, 0.0000, 0.0000, 0.0000, 0.0000, 0.0000, 0.0000,\n",
       "         0.0000, 0.0000, 0.0000, 0.4549, 0.6118, 0.6980, 0.5843, 0.6235, 0.6471,\n",
       "         0.6196, 0.6157, 0.6157, 0.5922, 0.5804, 0.6392, 0.7137, 0.6510, 0.7098,\n",
       "         0.7725, 0.6941, 0.6941, 0.2902, 0.0000, 0.0000, 0.0000, 0.0000, 0.0000,\n",
       "         0.0000, 0.0000, 0.0000, 0.0000, 0.6314, 0.6000, 0.7451, 0.7608, 0.6000,\n",
       "         0.6980, 0.6314, 0.6745, 0.6000, 0.7020, 0.6039, 0.6745, 0.6392, 0.6431,\n",
       "         0.6235, 0.8314, 0.7176, 0.6980, 0.4353, 0.0000, 0.0000, 0.0000, 0.0000,\n",
       "         0.0000, 0.0000, 0.0000, 0.0000, 0.0000, 0.7020, 0.6157, 0.7059, 0.7608,\n",
       "         0.5686, 0.6353, 0.6000, 0.6275, 0.6275, 0.7020, 0.6078, 0.6431, 0.6392,\n",
       "         0.6627, 0.6667, 0.8667, 0.7176, 0.6667, 0.4627, 0.0000, 0.0000, 0.0000,\n",
       "         0.0000, 0.0000, 0.0000, 0.0000, 0.0000, 0.0000, 0.7412, 0.6157, 0.6902,\n",
       "         0.7451, 0.5451, 0.6157, 0.6157, 0.6431, 0.6235, 0.6392, 0.6353, 0.6471,\n",
       "         0.6000, 0.6431, 0.6314, 0.9216, 0.7098, 0.6471, 0.5686, 0.0000, 0.0000,\n",
       "         0.0000, 0.0000, 0.0000, 0.0000, 0.0000, 0.0000, 0.0039, 0.7922, 0.6118,\n",
       "         0.7176, 0.7569, 0.5765, 0.6314, 0.6275, 0.6471, 0.6353, 0.6314, 0.6353,\n",
       "         0.6549, 0.6353, 0.6353, 0.6549, 0.8902, 0.7216, 0.6314, 0.6510, 0.0000,\n",
       "         0.0000, 0.0000, 0.0000, 0.0000, 0.0000, 0.0000, 0.0000, 0.0549, 0.8392,\n",
       "         0.6078, 0.7647, 0.7333, 0.5843, 0.6275, 0.6392, 0.5922, 0.6627, 0.6471,\n",
       "         0.6431, 0.6275, 0.6431, 0.6902, 0.6588, 0.9412, 0.7529, 0.6078, 0.7059,\n",
       "         0.0000, 0.0000, 0.0000, 0.0000, 0.0000, 0.0000, 0.0000, 0.0000, 0.1294,\n",
       "         0.8588, 0.6000, 0.8157, 0.6039, 0.6000, 0.5765, 0.6196, 0.5843, 0.7059,\n",
       "         0.6353, 0.6667, 0.6392, 0.6353, 0.6471, 0.6510, 0.6039, 0.8706, 0.5922,\n",
       "         0.7294, 0.0000, 0.0000, 0.0000, 0.0000, 0.0000, 0.0000, 0.0000, 0.0000,\n",
       "         0.1765, 0.8627, 0.6353, 0.8549, 0.3412, 0.6588, 0.6039, 0.6353, 0.5843,\n",
       "         0.6824, 0.6431, 0.6667, 0.6196, 0.6353, 0.6588, 0.7176, 0.3333, 0.9490,\n",
       "         0.5843, 0.7412, 0.0941, 0.0000, 0.0000, 0.0000, 0.0000, 0.0000, 0.0000,\n",
       "         0.0000, 0.2667, 0.8353, 0.6824, 0.7882, 0.2431, 0.7255, 0.5882, 0.6471,\n",
       "         0.5882, 0.6667, 0.6667, 0.6863, 0.6275, 0.6431, 0.6549, 0.7647, 0.2039,\n",
       "         0.9569, 0.6000, 0.7451, 0.2078, 0.0000, 0.0000, 0.0000, 0.0000, 0.0000,\n",
       "         0.0000, 0.0000, 0.3843, 0.7608, 0.7451, 0.5882, 0.1216, 0.8196, 0.5569,\n",
       "         0.6510, 0.5961, 0.6706, 0.6980, 0.7059, 0.6314, 0.6314, 0.6510, 0.7765,\n",
       "         0.0549, 0.8510, 0.6353, 0.7373, 0.2588, 0.0000, 0.0000, 0.0000, 0.0000,\n",
       "         0.0000, 0.0000, 0.0000, 0.4745, 0.6824, 0.7961, 0.4902, 0.0314, 0.8392,\n",
       "         0.5765, 0.6510, 0.5882, 0.6706, 0.6471, 0.6863, 0.6157, 0.6431, 0.6471,\n",
       "         0.8392, 0.0000, 0.6902, 0.6667, 0.6784, 0.3098, 0.0000, 0.0000, 0.0000,\n",
       "         0.0000, 0.0000, 0.0000, 0.0000, 0.4784, 0.6627, 0.8157, 0.4196, 0.0745,\n",
       "         0.8353, 0.5725, 0.6627, 0.5922, 0.6745, 0.6824, 0.7059, 0.6275, 0.6549,\n",
       "         0.6353, 0.9059, 0.0000, 0.5961, 0.7373, 0.6745, 0.3882, 0.0000, 0.0000,\n",
       "         0.0000, 0.0000, 0.0000, 0.0000, 0.0000, 0.4863, 0.6510, 0.9725, 0.2863,\n",
       "         0.1137, 0.8275, 0.5843, 0.6745, 0.6039, 0.6745, 0.7137, 0.7098, 0.6314,\n",
       "         0.6549, 0.6431, 0.9255, 0.0000, 0.4078, 0.7922, 0.6392, 0.4392, 0.0000,\n",
       "         0.0000, 0.0000, 0.0000, 0.0000, 0.0000, 0.0000, 0.4902, 0.6549, 1.0000,\n",
       "         0.0745, 0.2039, 0.8039, 0.5843, 0.6706, 0.6118, 0.6706, 0.6706, 0.6902,\n",
       "         0.6353, 0.6431, 0.6510, 0.9451, 0.0000, 0.2157, 0.8196, 0.6275, 0.5137,\n",
       "         0.0000, 0.0000, 0.0000, 0.0000, 0.0000, 0.0000, 0.0000, 0.4431, 0.6706,\n",
       "         0.9725, 0.0000, 0.3059, 0.7922, 0.5922, 0.6627, 0.6118, 0.6902, 0.7137,\n",
       "         0.7020, 0.6392, 0.6314, 0.6706, 0.9294, 0.0000, 0.0431, 0.8745, 0.6510,\n",
       "         0.4235, 0.0000, 0.0000, 0.0000, 0.0000, 0.0000, 0.0000, 0.0000, 0.3569,\n",
       "         0.6824, 0.8745, 0.0000, 0.3922, 0.7725, 0.6039, 0.6706, 0.6000, 0.6824,\n",
       "         0.7804, 0.7137, 0.6431, 0.6314, 0.6784, 0.9020, 0.0000, 0.0000, 0.8431,\n",
       "         0.6706, 0.3255, 0.0000, 0.0000, 0.0000, 0.0000, 0.0000, 0.0000, 0.0000,\n",
       "         0.2784, 0.7059, 0.7843, 0.0000, 0.4824, 0.7412, 0.6235, 0.6706, 0.5961,\n",
       "         0.6588, 0.7412, 0.7098, 0.6314, 0.6549, 0.6824, 0.9137, 0.0235, 0.0000,\n",
       "         0.8000, 0.6941, 0.3529, 0.0000, 0.0000, 0.0000, 0.0000, 0.0000, 0.0000,\n",
       "         0.0000, 0.2549, 0.6941, 0.7216, 0.0000, 0.6078, 0.6745, 0.6353, 0.6667,\n",
       "         0.6078, 0.6588, 0.7529, 0.7137, 0.6314, 0.6824, 0.6784, 0.9451, 0.1098,\n",
       "         0.0000, 0.6157, 0.7059, 0.2863, 0.0000, 0.0000, 0.0000, 0.0000, 0.0000,\n",
       "         0.0000, 0.0000, 0.4078, 0.7686, 0.7647, 0.0000, 0.2392, 0.8392, 0.6235,\n",
       "         0.6510, 0.5765, 0.7059, 0.8118, 0.6824, 0.6431, 0.6588, 0.7137, 0.8196,\n",
       "         0.0000, 0.0000, 0.7255, 0.7451, 0.4784, 0.0000, 0.0000, 0.0000, 0.0000,\n",
       "         0.0000, 0.0000, 0.0000, 0.0078, 0.1882, 0.1294, 0.0000, 0.0000, 0.5098,\n",
       "         0.8667, 0.7529, 0.6314, 0.7020, 0.7882, 0.6941, 0.6784, 0.6980, 0.7882,\n",
       "         0.4431, 0.0000, 0.0000, 0.0824, 0.1098, 0.0118, 0.0000, 0.0000, 0.0000,\n",
       "         0.0000, 0.0000, 0.0000, 0.0000, 0.0000, 0.0000, 0.0000, 0.0000, 0.0000,\n",
       "         0.0000, 0.2314, 0.4431, 0.5451, 0.7216, 0.7569, 0.6235, 0.5176, 0.5255,\n",
       "         0.3569, 0.0000, 0.0000, 0.0000, 0.0000, 0.0000, 0.0000, 0.0000, 0.0000,\n",
       "         0.0000]),\n",
       " tensor(6))"
      ]
     },
     "execution_count": 11,
     "metadata": {},
     "output_type": "execute_result"
    }
   ],
   "source": [
    "train_dataset.__getitem__(1)"
   ]
  },
  {
   "cell_type": "code",
   "execution_count": 12,
   "metadata": {},
   "outputs": [],
   "source": [
    "# create test_dataset object\n",
    "test_dataset = CustomDataset(X_test, y_test)"
   ]
  },
  {
   "cell_type": "code",
   "execution_count": 13,
   "metadata": {},
   "outputs": [],
   "source": [
    "# create train and test loader\n",
    "train_loader = DataLoader(train_dataset, batch_size=32, shuffle=True)\n",
    "test_loader = DataLoader(test_dataset, batch_size=32, shuffle=False)"
   ]
  },
  {
   "cell_type": "code",
   "execution_count": 14,
   "metadata": {},
   "outputs": [
    {
     "data": {
      "text/plain": [
       "<torch.utils.data.dataloader.DataLoader at 0x703152054b30>"
      ]
     },
     "execution_count": 14,
     "metadata": {},
     "output_type": "execute_result"
    }
   ],
   "source": [
    "train_loader"
   ]
  },
  {
   "cell_type": "code",
   "execution_count": 26,
   "metadata": {},
   "outputs": [],
   "source": [
    "# # define NN class\n",
    "\n",
    "# class MyNN(nn.Module):\n",
    "\n",
    "#   def __init__(self, num_features):\n",
    "\n",
    "#     super().__init__()\n",
    "#     self.model = nn.Sequential(\n",
    "#         nn.Linear(num_features, 128),\n",
    "#         nn.BatchNorm1d(128),\n",
    "#         nn.ReLU(),\n",
    "#         nn.Dropout(p=0.3),\n",
    "#         nn.Linear(128, 64),\n",
    "#         nn.BatchNorm1d(64),\n",
    "#         nn.ReLU(),\n",
    "#         nn.Dropout(p=0.3),\n",
    "#         nn.Linear(64, 10)\n",
    "#     )\n",
    "\n",
    "#   def forward(self, x):\n",
    "\n",
    "#     return self.model(x)\n",
    "\n",
    "\n",
    "device  = torch.device('cuda' if torch.cuda.is_available() else 'cpu')"
   ]
  },
  {
   "cell_type": "markdown",
   "metadata": {},
   "source": [
    "# apply Hyperparameter tunning"
   ]
  },
  {
   "cell_type": "code",
   "execution_count": 34,
   "metadata": {},
   "outputs": [],
   "source": [
    "class MyNN(nn.Module):\n",
    "    def __init__(self, input_dim,output_dim,num_hidden_layers,neurons_per_layers,dropout_rate) -> None:\n",
    "        super().__init__() # access the all method and variable nn.modules\n",
    "\n",
    "\n",
    "        layers =[] \n",
    "        for i in range(num_hidden_layers):\n",
    "            layers.append(nn.Linear(input_dim,neurons_per_layers))\n",
    "            layers.append(nn.BatchNorm1d(neurons_per_layers))\n",
    "            layers.append(nn.ReLU())\n",
    "            layers.append(nn.Dropout(dropout_rate))\n",
    "            input_dim = neurons_per_layers\n",
    "\n",
    "        layers.append(nn.Linear(neurons_per_layers,output_dim))\n",
    "\n",
    "        self.model = nn.Sequential(*layers)\n",
    "\n",
    "    def forward(self,x):\n",
    "        return self.model(x)"
   ]
  },
  {
   "cell_type": "code",
   "execution_count": 35,
   "metadata": {},
   "outputs": [],
   "source": [
    "# objective function\n",
    "def objective(trial):\n",
    "\n",
    "  # next hyperparameter values from the search space\n",
    "  num_hidden_layers = trial.suggest_int(\"num_hidden_layers\", 1, 5)\n",
    "  neurons_per_layer = trial.suggest_int(\"neurons_per_layer\", 8, 128, step=8)\n",
    "  epochs = trial.suggest_int(\"epochs\", 10, 50, step=10)\n",
    "  learning_rate = trial.suggest_float(\"learning_rate\", 1e-5, 1e-1, log=True)\n",
    "  dropout_rate = trial.suggest_float(\"dropout_rate\", 0.1, 0.5, step=0.1)\n",
    "  batch_size = trial.suggest_categorical(\"batch_size\", [16, 32, 64, 128])\n",
    "  optimizer_name = trial.suggest_categorical(\"optimizer\", ['Adam', 'SGD', 'RMSprop'])\n",
    "  weight_decay = trial.suggest_float(\"weight_decay\", 1e-5, 1e-3, log=True)\n",
    "\n",
    "  train_loader = DataLoader(train_dataset, batch_size=batch_size, shuffle=True, pin_memory=True)\n",
    "  test_loader = DataLoader(test_dataset, batch_size=batch_size, shuffle=False, pin_memory=True)\n",
    "\n",
    "  # model init\n",
    "  input_dim = 784\n",
    "  output_dim = 10\n",
    "\n",
    "  model = MyNN(input_dim, output_dim, num_hidden_layers, neurons_per_layer, dropout_rate)\n",
    "  model.to(device)\n",
    "\n",
    "  # optimizer selection\n",
    "  criterion = nn.CrossEntropyLoss()\n",
    "  optimizer = optim.SGD(model.parameters(), lr=0.1, weight_decay=1e-4)\n",
    "\n",
    "  if optimizer_name == 'Adam':\n",
    "    optim.Adam(model.parameters(), lr=learning_rate, weight_decay=weight_decay)\n",
    "  elif optimizer_name == 'SGD':\n",
    "    optim.SGD(model.parameters(), lr=learning_rate, weight_decay=weight_decay)\n",
    "  else:\n",
    "    optim.RMSprop(model.parameters(), lr=learning_rate, weight_decay=weight_decay)\n",
    "\n",
    "  # training loop\n",
    "\n",
    "  for epoch in range(epochs):\n",
    "\n",
    "    for batch_features, batch_labels in train_loader:\n",
    "\n",
    "      # move data to gpu\n",
    "      batch_features, batch_labels = batch_features.to(device), batch_labels.to(device)\n",
    "\n",
    "      # forward pass\n",
    "      outputs = model(batch_features)\n",
    "\n",
    "      # calculate loss\n",
    "      loss = criterion(outputs, batch_labels)\n",
    "\n",
    "      # back pass\n",
    "      optimizer.zero_grad()\n",
    "      loss.backward()\n",
    "\n",
    "      # update grads\n",
    "      optimizer.step()\n",
    "\n",
    "\n",
    "  # evaluation\n",
    "  model.eval()\n",
    "  # evaluation on test data\n",
    "  total = 0\n",
    "  correct = 0\n",
    "\n",
    "  with torch.no_grad():\n",
    "\n",
    "    for batch_features, batch_labels in test_loader:\n",
    "\n",
    "      # move data to gpu\n",
    "      batch_features, batch_labels = batch_features.to(device), batch_labels.to(device)\n",
    "\n",
    "      outputs = model(batch_features)\n",
    "\n",
    "      _, predicted = torch.max(outputs, 1)\n",
    "\n",
    "      total = total + batch_labels.shape[0]\n",
    "\n",
    "      correct = correct + (predicted == batch_labels).sum().item()\n",
    "\n",
    "    accuracy = correct/total\n",
    "\n",
    "  return accuracy"
   ]
  },
  {
   "cell_type": "code",
   "execution_count": 36,
   "metadata": {},
   "outputs": [],
   "source": [
    "\n",
    "# !pip install optuna"
   ]
  },
  {
   "cell_type": "code",
   "execution_count": 37,
   "metadata": {},
   "outputs": [
    {
     "name": "stderr",
     "output_type": "stream",
     "text": [
      "[I 2025-04-30 16:44:58,851] A new study created in memory with name: no-name-9d10f115-4707-436d-948d-1449fc1f405d\n"
     ]
    }
   ],
   "source": [
    "import optuna\n",
    "study = optuna.create_study(direction='maximize')"
   ]
  },
  {
   "cell_type": "code",
   "execution_count": null,
   "metadata": {},
   "outputs": [
    {
     "name": "stderr",
     "output_type": "stream",
     "text": [
      "[I 2025-04-30 16:45:03,383] Trial 0 finished with value: 0.7216666666666667 and parameters: {'num_hidden_layers': 4, 'neurons_per_layer': 8, 'epochs': 20, 'learning_rate': 4.176317165556242e-05, 'dropout_rate': 0.1, 'batch_size': 64, 'optimizer': 'SGD', 'weight_decay': 3.633727715615207e-05}. Best is trial 0 with value: 0.7216666666666667.\n",
      "[I 2025-04-30 16:45:22,171] Trial 1 finished with value: 0.8233333333333334 and parameters: {'num_hidden_layers': 4, 'neurons_per_layer': 72, 'epochs': 30, 'learning_rate': 0.004274167526654806, 'dropout_rate': 0.2, 'batch_size': 16, 'optimizer': 'Adam', 'weight_decay': 0.0004951967780596353}. Best is trial 1 with value: 0.8233333333333334.\n"
     ]
    }
   ],
   "source": [
    "study.optimize(objective,n_trials=10)"
   ]
  },
  {
   "cell_type": "code",
   "execution_count": null,
   "metadata": {},
   "outputs": [
    {
     "ename": "ValueError",
     "evalue": "No trials are completed yet.",
     "output_type": "error",
     "traceback": [
      "\u001b[31m---------------------------------------------------------------------------\u001b[39m",
      "\u001b[31mValueError\u001b[39m                                Traceback (most recent call last)",
      "\u001b[36mCell\u001b[39m\u001b[36m \u001b[39m\u001b[32mIn[33]\u001b[39m\u001b[32m, line 1\u001b[39m\n\u001b[32m----> \u001b[39m\u001b[32m1\u001b[39m \u001b[43mstudy\u001b[49m\u001b[43m.\u001b[49m\u001b[43mbest_params\u001b[49m\n",
      "\u001b[36mFile \u001b[39m\u001b[32m/media/brainwired/D/BW_ML/01_AUG_FARM_TEST/study/Pytorch/venv/lib/python3.12/site-packages/optuna/study/study.py:119\u001b[39m, in \u001b[36mStudy.best_params\u001b[39m\u001b[34m(self)\u001b[39m\n\u001b[32m    107\u001b[39m \u001b[38;5;129m@property\u001b[39m\n\u001b[32m    108\u001b[39m \u001b[38;5;28;01mdef\u001b[39;00m\u001b[38;5;250m \u001b[39m\u001b[34mbest_params\u001b[39m(\u001b[38;5;28mself\u001b[39m) -> \u001b[38;5;28mdict\u001b[39m[\u001b[38;5;28mstr\u001b[39m, Any]:\n\u001b[32m    109\u001b[39m \u001b[38;5;250m    \u001b[39m\u001b[33;03m\"\"\"Return parameters of the best trial in the study.\u001b[39;00m\n\u001b[32m    110\u001b[39m \n\u001b[32m    111\u001b[39m \u001b[33;03m    .. note::\u001b[39;00m\n\u001b[32m   (...)\u001b[39m\u001b[32m    116\u001b[39m \n\u001b[32m    117\u001b[39m \u001b[33;03m    \"\"\"\u001b[39;00m\n\u001b[32m--> \u001b[39m\u001b[32m119\u001b[39m     \u001b[38;5;28;01mreturn\u001b[39;00m \u001b[38;5;28;43mself\u001b[39;49m\u001b[43m.\u001b[49m\u001b[43mbest_trial\u001b[49m.params\n",
      "\u001b[36mFile \u001b[39m\u001b[32m/media/brainwired/D/BW_ML/01_AUG_FARM_TEST/study/Pytorch/venv/lib/python3.12/site-packages/optuna/study/study.py:162\u001b[39m, in \u001b[36mStudy.best_trial\u001b[39m\u001b[34m(self)\u001b[39m\n\u001b[32m    156\u001b[39m \u001b[38;5;28;01mif\u001b[39;00m \u001b[38;5;28mself\u001b[39m._is_multi_objective():\n\u001b[32m    157\u001b[39m     \u001b[38;5;28;01mraise\u001b[39;00m \u001b[38;5;167;01mRuntimeError\u001b[39;00m(\n\u001b[32m    158\u001b[39m         \u001b[33m\"\u001b[39m\u001b[33mA single best trial cannot be retrieved from a multi-objective study. Consider \u001b[39m\u001b[33m\"\u001b[39m\n\u001b[32m    159\u001b[39m         \u001b[33m\"\u001b[39m\u001b[33musing Study.best_trials to retrieve a list containing the best trials.\u001b[39m\u001b[33m\"\u001b[39m\n\u001b[32m    160\u001b[39m     )\n\u001b[32m--> \u001b[39m\u001b[32m162\u001b[39m best_trial = \u001b[38;5;28;43mself\u001b[39;49m\u001b[43m.\u001b[49m\u001b[43m_storage\u001b[49m\u001b[43m.\u001b[49m\u001b[43mget_best_trial\u001b[49m\u001b[43m(\u001b[49m\u001b[38;5;28;43mself\u001b[39;49m\u001b[43m.\u001b[49m\u001b[43m_study_id\u001b[49m\u001b[43m)\u001b[49m\n\u001b[32m    164\u001b[39m \u001b[38;5;66;03m# If the trial with the best value is infeasible, select the best trial from all feasible\u001b[39;00m\n\u001b[32m    165\u001b[39m \u001b[38;5;66;03m# trials. Note that the behavior is undefined when constrained optimization without the\u001b[39;00m\n\u001b[32m    166\u001b[39m \u001b[38;5;66;03m# violation value in the best-valued trial.\u001b[39;00m\n\u001b[32m    167\u001b[39m constraints = best_trial.system_attrs.get(_CONSTRAINTS_KEY)\n",
      "\u001b[36mFile \u001b[39m\u001b[32m/media/brainwired/D/BW_ML/01_AUG_FARM_TEST/study/Pytorch/venv/lib/python3.12/site-packages/optuna/storages/_in_memory.py:252\u001b[39m, in \u001b[36mInMemoryStorage.get_best_trial\u001b[39m\u001b[34m(self, study_id)\u001b[39m\n\u001b[32m    249\u001b[39m best_trial_id = \u001b[38;5;28mself\u001b[39m._studies[study_id].best_trial_id\n\u001b[32m    251\u001b[39m \u001b[38;5;28;01mif\u001b[39;00m best_trial_id \u001b[38;5;129;01mis\u001b[39;00m \u001b[38;5;28;01mNone\u001b[39;00m:\n\u001b[32m--> \u001b[39m\u001b[32m252\u001b[39m     \u001b[38;5;28;01mraise\u001b[39;00m \u001b[38;5;167;01mValueError\u001b[39;00m(\u001b[33m\"\u001b[39m\u001b[33mNo trials are completed yet.\u001b[39m\u001b[33m\"\u001b[39m)\n\u001b[32m    253\u001b[39m \u001b[38;5;28;01melif\u001b[39;00m \u001b[38;5;28mlen\u001b[39m(\u001b[38;5;28mself\u001b[39m._studies[study_id].directions) > \u001b[32m1\u001b[39m:\n\u001b[32m    254\u001b[39m     \u001b[38;5;28;01mraise\u001b[39;00m \u001b[38;5;167;01mRuntimeError\u001b[39;00m(\n\u001b[32m    255\u001b[39m         \u001b[33m\"\u001b[39m\u001b[33mBest trial can be obtained only for single-objective optimization.\u001b[39m\u001b[33m\"\u001b[39m\n\u001b[32m    256\u001b[39m     )\n",
      "\u001b[31mValueError\u001b[39m: No trials are completed yet."
     ]
    }
   ],
   "source": [
    "study.best_params"
   ]
  },
  {
   "cell_type": "code",
   "execution_count": null,
   "metadata": {},
   "outputs": [],
   "source": []
  },
  {
   "cell_type": "code",
   "execution_count": null,
   "metadata": {},
   "outputs": [],
   "source": [
    "study.best_params"
   ]
  },
  {
   "cell_type": "code",
   "execution_count": 16,
   "metadata": {},
   "outputs": [],
   "source": [
    "# set learning rate and epochs\n",
    "epochs = 100\n",
    "learning_rate = 0.1"
   ]
  },
  {
   "cell_type": "code",
   "execution_count": 17,
   "metadata": {},
   "outputs": [],
   "source": [
    "# instatiate the model\n",
    "model = MyNN(X_train.shape[1])\n",
    "\n",
    "# loss function\n",
    "# use the gpu if availble \n"
   ]
  },
  {
   "cell_type": "code",
   "execution_count": 18,
   "metadata": {},
   "outputs": [
    {
     "name": "stdout",
     "output_type": "stream",
     "text": [
      "cuda\n"
     ]
    }
   ],
   "source": [
    "device = torch.device('cuda' if torch.cuda.is_available() else \"cpu\")\n",
    "print(device)"
   ]
  },
  {
   "cell_type": "code",
   "execution_count": 19,
   "metadata": {},
   "outputs": [
    {
     "name": "stdout",
     "output_type": "stream",
     "text": [
      "cuda\n"
     ]
    }
   ],
   "source": [
    "device = torch.device('cuda' if torch.cuda.is_available() else \"cpu\")\n",
    "print(device)"
   ]
  },
  {
   "cell_type": "code",
   "execution_count": 20,
   "metadata": {},
   "outputs": [],
   "source": [
    "\n",
    "model.to(device)\n",
    "criterion = nn.CrossEntropyLoss()\n",
    "\n",
    "# optimizer\n",
    "optimizer = optim.SGD(model.parameters(), lr= learning_rate,weight_decay=1e-4) \n",
    "\n",
    "# weight_decay=1e-4  regulization"
   ]
  },
  {
   "cell_type": "code",
   "execution_count": 21,
   "metadata": {},
   "outputs": [
    {
     "name": "stdout",
     "output_type": "stream",
     "text": [
      "Epoch: 1 , Loss: 0.973299796183904\n",
      "Epoch: 2 , Loss: 0.6825804277261098\n",
      "Epoch: 3 , Loss: 0.6201567866404851\n",
      "Epoch: 4 , Loss: 0.577979056040446\n",
      "Epoch: 5 , Loss: 0.5303478293617566\n",
      "Epoch: 6 , Loss: 0.5128572050730388\n",
      "Epoch: 7 , Loss: 0.4904886027177175\n",
      "Epoch: 8 , Loss: 0.47927016705274583\n",
      "Epoch: 9 , Loss: 0.43062930246194203\n",
      "Epoch: 10 , Loss: 0.4264307456215223\n",
      "Epoch: 11 , Loss: 0.40907008707523346\n",
      "Epoch: 12 , Loss: 0.4030224364002546\n",
      "Epoch: 13 , Loss: 0.4040957683324814\n",
      "Epoch: 14 , Loss: 0.3788634930551052\n",
      "Epoch: 15 , Loss: 0.3674870274464289\n",
      "Epoch: 16 , Loss: 0.34247745220859843\n",
      "Epoch: 17 , Loss: 0.3418970882395903\n",
      "Epoch: 18 , Loss: 0.35003608440359435\n",
      "Epoch: 19 , Loss: 0.3277311221758525\n",
      "Epoch: 20 , Loss: 0.317414446969827\n",
      "Epoch: 21 , Loss: 0.32623925889531774\n",
      "Epoch: 22 , Loss: 0.31465804795424146\n",
      "Epoch: 23 , Loss: 0.29060092677672705\n",
      "Epoch: 24 , Loss: 0.2971381023277839\n",
      "Epoch: 25 , Loss: 0.30064310133457184\n",
      "Epoch: 26 , Loss: 0.2654985119402409\n",
      "Epoch: 27 , Loss: 0.28307518834869067\n",
      "Epoch: 28 , Loss: 0.2865698842207591\n",
      "Epoch: 29 , Loss: 0.24961933342119058\n",
      "Epoch: 30 , Loss: 0.263772897173961\n",
      "Epoch: 31 , Loss: 0.2625694624086221\n",
      "Epoch: 32 , Loss: 0.2423345929880937\n",
      "Epoch: 33 , Loss: 0.23707848904033502\n",
      "Epoch: 34 , Loss: 0.2480445232242346\n",
      "Epoch: 35 , Loss: 0.22975606679916383\n",
      "Epoch: 36 , Loss: 0.2294378563016653\n",
      "Epoch: 37 , Loss: 0.22511897852023444\n",
      "Epoch: 38 , Loss: 0.231638015533487\n",
      "Epoch: 39 , Loss: 0.22762974788745244\n",
      "Epoch: 40 , Loss: 0.22071724701672793\n",
      "Epoch: 41 , Loss: 0.20822498771051565\n",
      "Epoch: 42 , Loss: 0.2067052039814492\n",
      "Epoch: 43 , Loss: 0.20365343866248925\n",
      "Epoch: 44 , Loss: 0.1906015657633543\n",
      "Epoch: 45 , Loss: 0.19031044967472555\n",
      "Epoch: 46 , Loss: 0.19488633113602796\n",
      "Epoch: 47 , Loss: 0.1947593125887215\n",
      "Epoch: 48 , Loss: 0.1858610204110543\n",
      "Epoch: 49 , Loss: 0.18737603861838578\n",
      "Epoch: 50 , Loss: 0.19009474605321885\n",
      "Epoch: 51 , Loss: 0.17857397567480804\n",
      "Epoch: 52 , Loss: 0.17488244583209356\n",
      "Epoch: 53 , Loss: 0.17034464047600825\n",
      "Epoch: 54 , Loss: 0.17204192546506722\n",
      "Epoch: 55 , Loss: 0.16254967564096054\n",
      "Epoch: 56 , Loss: 0.16441496482739845\n",
      "Epoch: 57 , Loss: 0.167136303173999\n",
      "Epoch: 58 , Loss: 0.16470804361005625\n",
      "Epoch: 59 , Loss: 0.16408321104943752\n",
      "Epoch: 60 , Loss: 0.16708183402816454\n",
      "Epoch: 61 , Loss: 0.1684074841067195\n",
      "Epoch: 62 , Loss: 0.16848420264820257\n",
      "Epoch: 63 , Loss: 0.15418320565174023\n",
      "Epoch: 64 , Loss: 0.1577714902162552\n",
      "Epoch: 65 , Loss: 0.1541036472655833\n",
      "Epoch: 66 , Loss: 0.15921220380812884\n",
      "Epoch: 67 , Loss: 0.16936354925855995\n",
      "Epoch: 68 , Loss: 0.15533254546423753\n",
      "Epoch: 69 , Loss: 0.16127815981085103\n",
      "Epoch: 70 , Loss: 0.1450413125132521\n",
      "Epoch: 71 , Loss: 0.13587192754571636\n",
      "Epoch: 72 , Loss: 0.13601445507258178\n",
      "Epoch: 73 , Loss: 0.14079719057306647\n",
      "Epoch: 74 , Loss: 0.1379819008708\n",
      "Epoch: 75 , Loss: 0.13501216971005003\n",
      "Epoch: 76 , Loss: 0.14815862337127328\n",
      "Epoch: 77 , Loss: 0.14463583425308268\n",
      "Epoch: 78 , Loss: 0.1259796515883257\n",
      "Epoch: 79 , Loss: 0.13140032045543193\n",
      "Epoch: 80 , Loss: 0.12001182803884149\n",
      "Epoch: 81 , Loss: 0.1208831254672259\n",
      "Epoch: 82 , Loss: 0.13833757738893232\n",
      "Epoch: 83 , Loss: 0.13419531896710396\n",
      "Epoch: 84 , Loss: 0.13686421995361647\n",
      "Epoch: 85 , Loss: 0.13353120600183804\n",
      "Epoch: 86 , Loss: 0.13661006636917591\n",
      "Epoch: 87 , Loss: 0.12841247318933408\n",
      "Epoch: 88 , Loss: 0.1254183400173982\n",
      "Epoch: 89 , Loss: 0.13034944304575521\n",
      "Epoch: 90 , Loss: 0.12357624961063265\n",
      "Epoch: 91 , Loss: 0.12697427002402642\n",
      "Epoch: 92 , Loss: 0.12698927986746034\n",
      "Epoch: 93 , Loss: 0.10878725831086437\n",
      "Epoch: 94 , Loss: 0.11592972482244174\n",
      "Epoch: 95 , Loss: 0.1046545034274459\n",
      "Epoch: 96 , Loss: 0.1185551637224853\n",
      "Epoch: 97 , Loss: 0.11081283159554005\n",
      "Epoch: 98 , Loss: 0.10022794232082864\n",
      "Epoch: 99 , Loss: 0.09881419425209363\n",
      "Epoch: 100 , Loss: 0.10451390443680188\n"
     ]
    }
   ],
   "source": [
    "# training loop\n",
    "\n",
    "for epoch in range(epochs):\n",
    "\n",
    "  total_epoch_loss = 0\n",
    "\n",
    "  for batch_features, batch_labels in train_loader:\n",
    "\n",
    "    # forward pass\n",
    "    batch_features = batch_features.to(device)\n",
    "    batch_labels = batch_labels.to(device)\n",
    "    \n",
    "    outputs = model(batch_features)\n",
    "\n",
    "    # calculate loss\n",
    "    loss = criterion(outputs, batch_labels)\n",
    "\n",
    "    # back pass\n",
    "    optimizer.zero_grad()\n",
    "    loss.backward()\n",
    "\n",
    "    # update grads\n",
    "    optimizer.step()\n",
    "\n",
    "    total_epoch_loss = total_epoch_loss + loss.item()\n",
    "\n",
    "  avg_loss = total_epoch_loss/len(train_loader)\n",
    "  print(f'Epoch: {epoch + 1} , Loss: {avg_loss}')"
   ]
  },
  {
   "cell_type": "code",
   "execution_count": 22,
   "metadata": {},
   "outputs": [
    {
     "data": {
      "text/plain": [
       "MyNN(\n",
       "  (model): Sequential(\n",
       "    (0): Linear(in_features=784, out_features=128, bias=True)\n",
       "    (1): BatchNorm1d(128, eps=1e-05, momentum=0.1, affine=True, track_running_stats=True)\n",
       "    (2): ReLU()\n",
       "    (3): Dropout(p=0.3, inplace=False)\n",
       "    (4): Linear(in_features=128, out_features=64, bias=True)\n",
       "    (5): BatchNorm1d(64, eps=1e-05, momentum=0.1, affine=True, track_running_stats=True)\n",
       "    (6): ReLU()\n",
       "    (7): Dropout(p=0.3, inplace=False)\n",
       "    (8): Linear(in_features=64, out_features=10, bias=True)\n",
       "  )\n",
       ")"
      ]
     },
     "execution_count": 22,
     "metadata": {},
     "output_type": "execute_result"
    }
   ],
   "source": [
    "# set model to eval mode\n",
    "model.eval()"
   ]
  },
  {
   "cell_type": "code",
   "execution_count": 23,
   "metadata": {},
   "outputs": [
    {
     "name": "stdout",
     "output_type": "stream",
     "text": [
      "0.8308333333333333\n"
     ]
    }
   ],
   "source": [
    "# evaluation code test data\n",
    "total = 0\n",
    "correct = 0\n",
    "\n",
    "with torch.no_grad():\n",
    "\n",
    "  for batch_features, batch_labels in test_loader:\n",
    "    batch_features = batch_features.to(device)\n",
    "    batch_labels = batch_labels.to(device)\n",
    "    \n",
    "\n",
    "    outputs = model(batch_features)\n",
    "\n",
    "    _, predicted = torch.max(outputs, 1)\n",
    "\n",
    "    total = total + batch_labels.shape[0]\n",
    "\n",
    "    correct = correct + (predicted == batch_labels).sum().item()\n",
    "\n",
    "print(correct/total)"
   ]
  },
  {
   "cell_type": "code",
   "execution_count": 24,
   "metadata": {},
   "outputs": [
    {
     "name": "stdout",
     "output_type": "stream",
     "text": [
      "0.981875\n"
     ]
    }
   ],
   "source": [
    "# evaluation code train data\n",
    "total = 0\n",
    "correct = 0\n",
    "\n",
    "with torch.no_grad():\n",
    "\n",
    "  for batch_features, batch_labels in train_loader:\n",
    "    batch_features = batch_features.to(device)\n",
    "    batch_labels = batch_labels.to(device)\n",
    "    \n",
    "\n",
    "    outputs = model(batch_features)\n",
    "\n",
    "    _, predicted = torch.max(outputs, 1)\n",
    "\n",
    "    total = total + batch_labels.shape[0]\n",
    "\n",
    "    correct = correct + (predicted == batch_labels).sum().item()\n",
    "\n",
    "print(correct/total)"
   ]
  },
  {
   "cell_type": "code",
   "execution_count": 24,
   "metadata": {},
   "outputs": [
    {
     "data": {
      "text/plain": [
       "38"
      ]
     },
     "execution_count": 24,
     "metadata": {},
     "output_type": "execute_result"
    }
   ],
   "source": [
    "len(test_loader)"
   ]
  },
  {
   "cell_type": "code",
   "execution_count": 25,
   "metadata": {},
   "outputs": [],
   "source": [
    "import torch"
   ]
  },
  {
   "cell_type": "code",
   "execution_count": 26,
   "metadata": {},
   "outputs": [
    {
     "name": "stdout",
     "output_type": "stream",
     "text": [
      "cuda\n"
     ]
    }
   ],
   "source": [
    "device = torch.device('cuda' if torch.cuda.is_available() else \"cpu\")\n",
    "print(device)"
   ]
  },
  {
   "cell_type": "code",
   "execution_count": 27,
   "metadata": {},
   "outputs": [],
   "source": [
    "import torch\n",
    "\n",
    "device = torch.device('cuda' if torch.cuda.is_available() else 'cpu')"
   ]
  },
  {
   "attachments": {
    "image.png": {
     "image/png": "[encoded data removed]"
    }
   },
   "cell_type": "markdown",
   "metadata": {},
   "source": [
    "![image.png](attachment:image.png)"
   ]
  },
  {
   "cell_type": "code",
   "execution_count": null,
   "metadata": {},
   "outputs": [],
   "source": []
  }
 ],
 "metadata": {
  "kernelspec": {
   "display_name": "venv",
   "language": "python",
   "name": "python3"
  },
  "language_info": {
   "codemirror_mode": {
    "name": "ipython",
    "version": 3
   },
   "file_extension": ".py",
   "mimetype": "text/x-python",
   "name": "python",
   "nbconvert_exporter": "python",
   "pygments_lexer": "ipython3",
   "version": "3.12.3"
  }
 },
 "nbformat": 4,
 "nbformat_minor": 2
}
